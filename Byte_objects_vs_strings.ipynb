{
 "cells": [
  {
   "cell_type": "code",
   "execution_count": null,
   "metadata": {},
   "outputs": [],
   "source": [
    "# In Python 2, both str and bytes are the same typeByte objects whereas \n",
    "# in Python 3 Byte objects, defined in Python 3 are “sequence of bytes” \n",
    "# and similar to “unicode” objects from Python 2. However, there are \n",
    "# many differences in strings and Byte objects. \n",
    "# Some of them are depicted below: \n",
    "# ` \n",
    " \n",
    "\n",
    "# Byte objects are sequence of Bytes, whereas Strings are sequence of characters.\n",
    "# Byte objects are in machine readable form internally, Strings are only in human readable form.\n",
    "# Since Byte objects are machine readable, they can be directly stored on the disk. \n",
    "# Whereas, Strings need encoding before which they can be stored on disk."
   ]
  },
  {
   "cell_type": "code",
   "execution_count": 1,
   "metadata": {},
   "outputs": [
    {
     "name": "stdout",
     "output_type": "stream",
     "text": [
      "Encoding Successful\n"
     ]
    }
   ],
   "source": [
    "# Byte Encoding\n",
    "\n",
    "# initialising string\n",
    "a = 'Hi Guys'\n",
    "\n",
    "# initialising a byte object\n",
    "c = b'Hi Guys'\n",
    "\n",
    "#using encode() to encode the string\n",
    "#encoded version of a is stored in d \n",
    "#using ascii mapping\n",
    "d = a.encode('ASCII')\n",
    "\n",
    "#checking if a is converted to bytes or not\n",
    "if(d==c):\n",
    "    print(\"Encoding Successful\")\n",
    "else:\n",
    "    print(\"Encoding Unsuccessful\")"
   ]
  },
  {
   "cell_type": "code",
   "execution_count": null,
   "metadata": {},
   "outputs": [],
   "source": [
    "# Similarly, Decoding is process to convert a Byte object to String. \n",
    "# It is implemented using decode() . A byte string can be decoded back into \n",
    "# a character string, if you know which encoding was used to encode it. \n",
    "\n",
    "# Encoding and Decoding are inverse processes. "
   ]
  },
  {
   "cell_type": "code",
   "execution_count": 2,
   "metadata": {},
   "outputs": [
    {
     "name": "stdout",
     "output_type": "stream",
     "text": [
      "Decoding Successful\n"
     ]
    }
   ],
   "source": [
    "#Byte Decoding\n",
    "\n",
    "#initialising a string\n",
    "a = 'Hi! guys'\n",
    "\n",
    "#initialising a byte object\n",
    "c = b'Hi! guys'\n",
    "\n",
    "#using decode() to decode the Byte object \n",
    "#decoded version of c is stored in d \n",
    "#using ASCII mapping \n",
    "d = c.decode('ASCII')\n",
    "\n",
    "#Checing if c is converted to String or not\n",
    "if(d==a):\n",
    "    print(\"Decoding Successful\")\n",
    "else:\n",
    "    print(\"Decoding Unsuccessful\")"
   ]
  }
 ],
 "metadata": {
  "kernelspec": {
   "display_name": "Python 3",
   "language": "python",
   "name": "python3"
  },
  "language_info": {
   "codemirror_mode": {
    "name": "ipython",
    "version": 3
   },
   "file_extension": ".py",
   "mimetype": "text/x-python",
   "name": "python",
   "nbconvert_exporter": "python",
   "pygments_lexer": "ipython3",
   "version": "3.11.3"
  },
  "orig_nbformat": 4
 },
 "nbformat": 4,
 "nbformat_minor": 2
}
