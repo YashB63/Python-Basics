{
 "cells": [
  {
   "cell_type": "code",
   "execution_count": null,
   "metadata": {},
   "outputs": [],
   "source": [
    "# Ofen you will want to \"inject\" a variable into your string for printing. For Example:\n",
    "#   my_name = \"Yash\"\n",
    "#   print(\"Hello \"+my_name)\n",
    "#There are multiple ways to format strings for printing variables in them.\n",
    "#This is known as interpolation "
   ]
  },
  {
   "cell_type": "code",
   "execution_count": null,
   "metadata": {},
   "outputs": [],
   "source": [
    "#We will use two methods for this:\n",
    "#   .format() method\n",
    "#   f-strings (formatted string literals)"
   ]
  },
  {
   "cell_type": "code",
   "execution_count": null,
   "metadata": {},
   "outputs": [],
   "source": [
    "#Formatting with the .format() method\n",
    "\n",
    "#A good way to format objects into your strings for print statements is with the string .format() method. The syntax is:\n",
    "\n",
    "'String here {} then also {}'.format{'something1','something2'} "
   ]
  }
 ],
 "metadata": {
  "language_info": {
   "name": "python"
  },
  "orig_nbformat": 4
 },
 "nbformat": 4,
 "nbformat_minor": 2
}
