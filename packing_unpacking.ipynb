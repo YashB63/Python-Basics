{
 "cells": [
  {
   "cell_type": "code",
   "execution_count": 1,
   "metadata": {},
   "outputs": [
    {
     "ename": "TypeError",
     "evalue": "func() missing 3 required positional arguments: 'b', 'c', and 'd'",
     "output_type": "error",
     "traceback": [
      "\u001b[1;31m---------------------------------------------------------------------------\u001b[0m",
      "\u001b[1;31mTypeError\u001b[0m                                 Traceback (most recent call last)",
      "Cell \u001b[1;32mIn[1], line 12\u001b[0m\n\u001b[0;32m      9\u001b[0m test_list \u001b[39m=\u001b[39m [\u001b[39m1\u001b[39m, \u001b[39m2\u001b[39m, \u001b[39m3\u001b[39m, \u001b[39m4\u001b[39m]\n\u001b[0;32m     11\u001b[0m \u001b[39m# This list doesn't work\u001b[39;00m\n\u001b[1;32m---> 12\u001b[0m func(test_list)\n",
      "\u001b[1;31mTypeError\u001b[0m: func() missing 3 required positional arguments: 'b', 'c', and 'd'"
     ]
    }
   ],
   "source": [
    "# Consider a situation where we have a function that recieves four arguments\n",
    "# we want to make call to this function and we have a list of size 4 with us\n",
    "# that has all arguments for the function. If we simply pass a list to the function, \n",
    "# the call doesn't work\n",
    "\n",
    "def func(a, b, c, d):\n",
    "    print(a, b, c, d)\n",
    "    \n",
    "test_list = [1, 2, 3, 4]\n",
    "\n",
    "# This list doesn't work\n",
    "func(test_list)"
   ]
  },
  {
   "cell_type": "code",
   "execution_count": null,
   "metadata": {},
   "outputs": [],
   "source": [
    "# We need to keep in mind that the no. of arh=guments must be \n",
    "#  the same as the length of the list that we are unpacking\n",
    "# for the arguments"
   ]
  },
  {
   "cell_type": "code",
   "execution_count": 2,
   "metadata": {},
   "outputs": [
    {
     "ename": "TypeError",
     "evalue": "func() takes 3 positional arguments but 4 were given",
     "output_type": "error",
     "traceback": [
      "\u001b[1;31m---------------------------------------------------------------------------\u001b[0m",
      "\u001b[1;31mTypeError\u001b[0m                                 Traceback (most recent call last)",
      "Cell \u001b[1;32mIn[2], line 7\u001b[0m\n\u001b[0;32m      4\u001b[0m     \u001b[39mreturn\u001b[39;00m a \u001b[39m+\u001b[39m b \u001b[39m+\u001b[39m c\n\u001b[0;32m      6\u001b[0m \u001b[39m# calling functions with unpacking args\u001b[39;00m\n\u001b[1;32m----> 7\u001b[0m func(\u001b[39m*\u001b[39;49margs)\n",
      "\u001b[1;31mTypeError\u001b[0m: func() takes 3 positional arguments but 4 were given"
     ]
    }
   ],
   "source": [
    "args = [0,1,2,3]\n",
    "\n",
    "def func(a,b,c):\n",
    "    return a + b + c\n",
    "\n",
    "# calling functions with unpacking args\n",
    "func(*args)"
   ]
  }
 ],
 "metadata": {
  "kernelspec": {
   "display_name": "Python 3",
   "language": "python",
   "name": "python3"
  },
  "language_info": {
   "codemirror_mode": {
    "name": "ipython",
    "version": 3
   },
   "file_extension": ".py",
   "mimetype": "text/x-python",
   "name": "python",
   "nbconvert_exporter": "python",
   "pygments_lexer": "ipython3",
   "version": "3.11.3"
  },
  "orig_nbformat": 4
 },
 "nbformat": 4,
 "nbformat_minor": 2
}
