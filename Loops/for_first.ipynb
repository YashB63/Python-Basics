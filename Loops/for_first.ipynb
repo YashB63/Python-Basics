{
 "cells": [
  {
   "cell_type": "code",
   "execution_count": 1,
   "metadata": {},
   "outputs": [],
   "source": [
    "# For Loop:\n",
    "    \n",
    "# For loops are used for sequential traversal. \n",
    "# For example: traversing a list or string etc"
   ]
  },
  {
   "cell_type": "code",
   "execution_count": 2,
   "metadata": {},
   "outputs": [
    {
     "name": "stdout",
     "output_type": "stream",
     "text": [
      "0\n",
      "1\n",
      "2\n",
      "3\n",
      "4\n",
      "5\n"
     ]
    }
   ],
   "source": [
    "#printing numbers in a range\n",
    "\n",
    "n = 6\n",
    "for i in range(0, n):\n",
    "    print(i)"
   ]
  },
  {
   "cell_type": "code",
   "execution_count": 7,
   "metadata": {},
   "outputs": [
    {
     "name": "stdout",
     "output_type": "stream",
     "text": [
      "List Iteration\n",
      "['Yash', 'B63', 'Python']\n",
      "['Yash', 'B63', 'Python']\n",
      "['Yash', 'B63', 'Python']\n",
      "\n",
      "Tuple Iteration\n",
      "('Yash', 'B63', 'Python')\n",
      "('Yash', 'B63', 'Python')\n",
      "('Yash', 'B63', 'Python')\n",
      "\n",
      "String Iteration\n",
      "Y\n",
      "a\n",
      "s\n",
      "h\n",
      "B\n",
      "6\n",
      "3\n",
      "\n",
      "Dictionary Iteration\n",
      "first  123\n",
      "second  345\n",
      "\n",
      "Set Iteration\n",
      "1\n",
      "2\n",
      "3\n",
      "4\n",
      "5\n",
      "6\n"
     ]
    }
   ],
   "source": [
    "# List, Tuple, string, and dictionary iteration using For Loops in Python\n",
    "\n",
    "print(\"List Iteration\")\n",
    "a = [\"Yash\", \"B63\", \"Python\"]\n",
    "for i in a:\n",
    "    print(a)\n",
    " \n",
    "# Iterating over a tuple (immutable)\n",
    "print(\"\\nTuple Iteration\")\n",
    "b = (\"Yash\", \"B63\", \"Python\")\n",
    "for i in b:\n",
    "    print(b)\n",
    " \n",
    "# Iterating over a String\n",
    "print(\"\\nString Iteration\")\n",
    "s = \"YashB63\"\n",
    "for i in s:\n",
    "    print(i)\n",
    " \n",
    "# Iterating over dictionary\n",
    "print(\"\\nDictionary Iteration\")\n",
    "d = dict()\n",
    "d['first'] = 123\n",
    "d['second'] = 345\n",
    "for i in d:\n",
    "    print(\"%s  %d\" % (i, d[i]))\n",
    " \n",
    "# Iterating over a set\n",
    "print(\"\\nSet Iteration\")\n",
    "set1 = {1, 2, 3, 4, 5, 6}\n",
    "for i in set1:\n",
    "    print(i),"
   ]
  }
 ],
 "metadata": {
  "kernelspec": {
   "display_name": "Python 3",
   "language": "python",
   "name": "python3"
  },
  "language_info": {
   "codemirror_mode": {
    "name": "ipython",
    "version": 3
   },
   "file_extension": ".py",
   "mimetype": "text/x-python",
   "name": "python",
   "nbconvert_exporter": "python",
   "pygments_lexer": "ipython3",
   "version": "3.11.3"
  },
  "orig_nbformat": 4
 },
 "nbformat": 4,
 "nbformat_minor": 2
}
