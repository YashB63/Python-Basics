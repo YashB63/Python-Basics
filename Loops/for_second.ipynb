{
 "cells": [
  {
   "cell_type": "code",
   "execution_count": 2,
   "metadata": {},
   "outputs": [],
   "source": [
    "# We can also use the index of elements in the sequence to iterate. \n",
    "# The key idea is to first calculate the length of the list and in \n",
    "# iterate over the sequence within the range of this length."
   ]
  },
  {
   "cell_type": "code",
   "execution_count": 1,
   "metadata": {},
   "outputs": [
    {
     "name": "stdout",
     "output_type": "stream",
     "text": [
      "Yash\n",
      "B63\n",
      "Python\n"
     ]
    }
   ],
   "source": [
    "#iterating by index\n",
    "list = [\"Yash\", \"B63\", \"Python\"]\n",
    "for index in range(len(list)):\n",
    "    print(list[index])"
   ]
  },
  {
   "cell_type": "code",
   "execution_count": null,
   "metadata": {},
   "outputs": [],
   "source": [
    "# We can also combine else statement with for loop like in while loop. \n",
    "# But as there is no condition in for loop based on which the execution will \n",
    "# terminate so the else block will be executed immediately after for block \n",
    "# finishes execution. "
   ]
  },
  {
   "cell_type": "code",
   "execution_count": 3,
   "metadata": {},
   "outputs": [
    {
     "name": "stdout",
     "output_type": "stream",
     "text": [
      "Yash\n",
      "B63\n",
      "Python\n",
      "I am inside the else block\n"
     ]
    }
   ],
   "source": [
    "#using else statement with for loop \n",
    "\n",
    "list = [\"Yash\", \"B63\", \"Python\"]\n",
    "for index in range(len(list)):\n",
    "    print(list[index])\n",
    "else:\n",
    "    print(\"I am inside the else block\")"
   ]
  }
 ],
 "metadata": {
  "kernelspec": {
   "display_name": "Python 3",
   "language": "python",
   "name": "python3"
  },
  "language_info": {
   "codemirror_mode": {
    "name": "ipython",
    "version": 3
   },
   "file_extension": ".py",
   "mimetype": "text/x-python",
   "name": "python",
   "nbconvert_exporter": "python",
   "pygments_lexer": "ipython3",
   "version": "3.11.3"
  },
  "orig_nbformat": 4
 },
 "nbformat": 4,
 "nbformat_minor": 2
}
