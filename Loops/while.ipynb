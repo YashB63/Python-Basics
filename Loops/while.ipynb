{
 "cells": [
  {
   "cell_type": "code",
   "execution_count": 2,
   "metadata": {},
   "outputs": [],
   "source": [
    "# A while loop is used to execute a block of statements repeatedly until \n",
    "# a given condition is satisfied. And when the condition becomes false, \n",
    "# the line immediately after the loop in the program is executed."
   ]
  },
  {
   "cell_type": "code",
   "execution_count": 3,
   "metadata": {},
   "outputs": [
    {
     "name": "stdout",
     "output_type": "stream",
     "text": [
      "Hi Guys! welcome to my stream\n",
      "Hi Guys! welcome to my stream\n",
      "Hi Guys! welcome to my stream\n"
     ]
    }
   ],
   "source": [
    "#example\n",
    "\n",
    "count = 0\n",
    "while (count<3):\n",
    "    count = count + 1\n",
    "    print(\"Hi Guys! welcome to my stream\")"
   ]
  },
  {
   "cell_type": "code",
   "execution_count": 4,
   "metadata": {},
   "outputs": [],
   "source": [
    "# Using else statement with While Loop in Python:\n",
    "    \n",
    "# The else clause is only executed when your while condition becomes false. \n",
    "# If you break out of the loop, or if an exception is raised, it won’t be executed. "
   ]
  },
  {
   "cell_type": "code",
   "execution_count": 5,
   "metadata": {},
   "outputs": [
    {
     "name": "stdout",
     "output_type": "stream",
     "text": [
      "Hi Guys! Welcome to my stream\n",
      "Hi Guys! Welcome to my stream\n",
      "Hi Guys! Welcome to my stream\n",
      "I am in else block!\n"
     ]
    }
   ],
   "source": [
    "#example\n",
    "\n",
    "count = 0\n",
    "while (count < 3):\n",
    "    count = count + 1\n",
    "    print(\"Hi Guys! Welcome to my stream\")\n",
    "else:\n",
    "    print(\"I am in else block!\")"
   ]
  }
 ],
 "metadata": {
  "kernelspec": {
   "display_name": "Python 3",
   "language": "python",
   "name": "python3"
  },
  "language_info": {
   "codemirror_mode": {
    "name": "ipython",
    "version": 3
   },
   "file_extension": ".py",
   "mimetype": "text/x-python",
   "name": "python",
   "nbconvert_exporter": "python",
   "pygments_lexer": "ipython3",
   "version": "3.11.3"
  },
  "orig_nbformat": 4
 },
 "nbformat": 4,
 "nbformat_minor": 2
}
