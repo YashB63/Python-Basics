{
 "cells": [
  {
   "cell_type": "code",
   "execution_count": null,
   "metadata": {},
   "outputs": [],
   "source": [
    "# Since there is no main() function in python, when the command to run a \n",
    "# python program is given to the intepreter, the code that is at level 0 \n",
    "# indentation is to be executed. However, beefore doing that, it will define \n",
    "# a few special variables. \n",
    "\n",
    "# __name__ is on e such variable\n",
    "# If the source file is executed as the main program, \n",
    "# the interpreter sets the __name__ variable to have a value “__main__”. \n",
    "# If this file is being imported from another module, __name__ will be set \n",
    "# to the module’s name.\n",
    "\n",
    "# __name__ is a built-in variable which evaluates to the name of the \n",
    "# current module. Thus it can be used to check whether the current \n",
    "# script is being run on its own or being imported somewhere else by \n",
    "# combining it with if statement."
   ]
  }
 ],
 "metadata": {
  "language_info": {
   "name": "python"
  },
  "orig_nbformat": 4
 },
 "nbformat": 4,
 "nbformat_minor": 2
}
