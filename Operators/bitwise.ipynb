{
 "cells": [
  {
   "cell_type": "code",
   "execution_count": 2,
   "metadata": {},
   "outputs": [],
   "source": [
    "# &  ->  Bitwise AND  ->  x&y\n",
    "# |  ->  Bitwise OR  ->  x|y\n",
    "# ~  ->  Bitwise NOT  ->  ~x\n",
    "# ^  ->  Bitwise XOR  ->  x^y\n",
    "# >>  ->  Bitwise right shift  ->  x>>\n",
    "# <<  ->  Bitwise left shift  ->  x<<"
   ]
  },
  {
   "cell_type": "code",
   "execution_count": 3,
   "metadata": {},
   "outputs": [],
   "source": [
    "# The precedence of Bitwise Operators in python is as follows:\n",
    "\n",
    "#   Bitwise NOT\n",
    "#   Bitwise Shift\n",
    "#   Bitwise AND\n",
    "#   Bitwise XOR\n",
    "#   Bitwise OR"
   ]
  },
  {
   "cell_type": "code",
   "execution_count": 10,
   "metadata": {},
   "outputs": [
    {
     "name": "stdout",
     "output_type": "stream",
     "text": [
      "26\n",
      "127\n",
      "-64\n",
      "101\n",
      "15\n",
      "252\n"
     ]
    }
   ],
   "source": [
    "# Examples of Bitwise operators\n",
    "a = 63\n",
    "b = 90\n",
    " \n",
    "# Print bitwise AND operation\n",
    "print(a & b)\n",
    " \n",
    "# Print bitwise OR operation\n",
    "print(a | b)\n",
    " \n",
    "# Print bitwise NOT operation\n",
    "print(~a)\n",
    " \n",
    "# print bitwise XOR operation\n",
    "print(a ^ b)\n",
    " \n",
    "# print bitwise right shift operation\n",
    "print(a >> 2)\n",
    " \n",
    "# print bitwise left shift operation\n",
    "print(a << 2)"
   ]
  }
 ],
 "metadata": {
  "kernelspec": {
   "display_name": "Python 3",
   "language": "python",
   "name": "python3"
  },
  "language_info": {
   "codemirror_mode": {
    "name": "ipython",
    "version": 3
   },
   "file_extension": ".py",
   "mimetype": "text/x-python",
   "name": "python",
   "nbconvert_exporter": "python",
   "pygments_lexer": "ipython3",
   "version": "3.11.3"
  },
  "orig_nbformat": 4
 },
 "nbformat": 4,
 "nbformat_minor": 2
}
