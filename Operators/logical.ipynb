{
 "cells": [
  {
   "cell_type": "code",
   "execution_count": null,
   "metadata": {},
   "outputs": [],
   "source": [
    "# and  -> Logical AND: True if both the operands are True. ->  x and y\n",
    "# or  -> Logical OR: True if either the operands is True. ->  x or y\n",
    "# not -> Logical NOT: True if the operand is False. ->  not x"
   ]
  },
  {
   "cell_type": "code",
   "execution_count": null,
   "metadata": {},
   "outputs": [],
   "source": [
    "# Precedence of Logical Operators in Python\n",
    "# The precedence of Logical Operators in python is as follows:\n",
    "\n",
    "#   Logical not\n",
    "#   Logical and\n",
    "#   Logical or"
   ]
  },
  {
   "cell_type": "code",
   "execution_count": 1,
   "metadata": {},
   "outputs": [
    {
     "name": "stdout",
     "output_type": "stream",
     "text": [
      "False\n",
      "True\n",
      "True\n"
     ]
    }
   ],
   "source": [
    "# Examples of Logical Operator\n",
    "a = False\n",
    "b = True\n",
    " \n",
    "# Print a and b is False\n",
    "print(a and b)\n",
    " \n",
    "# Print a or b is True\n",
    "print(a or b)\n",
    " \n",
    "# Print not a is False\n",
    "print(not a)"
   ]
  }
 ],
 "metadata": {
  "kernelspec": {
   "display_name": "Python 3",
   "language": "python",
   "name": "python3"
  },
  "language_info": {
   "codemirror_mode": {
    "name": "ipython",
    "version": 3
   },
   "file_extension": ".py",
   "mimetype": "text/x-python",
   "name": "python",
   "nbconvert_exporter": "python",
   "pygments_lexer": "ipython3",
   "version": "3.11.3"
  },
  "orig_nbformat": 4
 },
 "nbformat": 4,
 "nbformat_minor": 2
}
