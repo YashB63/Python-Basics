{
 "cells": [
  {
   "cell_type": "code",
   "execution_count": 1,
   "metadata": {},
   "outputs": [],
   "source": [
    "# Any and All are two built-in functions provided in python used for \n",
    "# successive And/Or. Any Returns true if any of the items is True. \n",
    "# It returns False if empty or all are false. \n",
    "# Any can be thought of as a sequence of OR operations on the provided iterables. \n",
    "# It stops the execution as soon as the result is known. "
   ]
  },
  {
   "cell_type": "code",
   "execution_count": 3,
   "metadata": {},
   "outputs": [
    {
     "name": "stdout",
     "output_type": "stream",
     "text": [
      "False\n",
      "True\n",
      "True\n"
     ]
    }
   ],
   "source": [
    "# Since all are false, false is returned\n",
    "print (any([False, False, False, False]))\n",
    " \n",
    "# Here the method will stop at the\n",
    "# second item (True) and will return True.\n",
    "print (any([False, True, False, False]))\n",
    " \n",
    "# Here the method will stop at the\n",
    "# first (True) and will return True.\n",
    "print (any([True, False, False, False]))"
   ]
  }
 ],
 "metadata": {
  "kernelspec": {
   "display_name": "Python 3",
   "language": "python",
   "name": "python3"
  },
  "language_info": {
   "codemirror_mode": {
    "name": "ipython",
    "version": 3
   },
   "file_extension": ".py",
   "mimetype": "text/x-python",
   "name": "python",
   "nbconvert_exporter": "python",
   "pygments_lexer": "ipython3",
   "version": "3.11.3"
  },
  "orig_nbformat": 4
 },
 "nbformat": 4,
 "nbformat_minor": 2
}
