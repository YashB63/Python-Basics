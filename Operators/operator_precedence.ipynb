{
 "cells": [
  {
   "cell_type": "code",
   "execution_count": 2,
   "metadata": {},
   "outputs": [],
   "source": [
    "# This is used in an expression with more than one operator with \n",
    "# different precedence to determine which operation to perform first."
   ]
  },
  {
   "cell_type": "code",
   "execution_count": 1,
   "metadata": {},
   "outputs": [
    {
     "name": "stdout",
     "output_type": "stream",
     "text": [
      "7150\n",
      "Hello! Welcome.\n"
     ]
    }
   ],
   "source": [
    "# Examples of Operator Precedence\n",
    " \n",
    "# Precedence of '+' & '*'\n",
    "expr = 150 + 200 * 35\n",
    "print(expr)\n",
    " \n",
    "# Precedence of 'or' & 'and'\n",
    "name = \"Yash\"\n",
    "age = 22\n",
    " \n",
    "if name == \"Yash\" or name == \"YoYash\" and age >= 20:\n",
    "    print(\"Hello! Welcome.\")\n",
    "else:\n",
    "    print(\"Good Bye!!\")"
   ]
  }
 ],
 "metadata": {
  "kernelspec": {
   "display_name": "Python 3",
   "language": "python",
   "name": "python3"
  },
  "language_info": {
   "codemirror_mode": {
    "name": "ipython",
    "version": 3
   },
   "file_extension": ".py",
   "mimetype": "text/x-python",
   "name": "python",
   "nbconvert_exporter": "python",
   "pygments_lexer": "ipython3",
   "version": "3.11.3"
  },
  "orig_nbformat": 4
 },
 "nbformat": 4,
 "nbformat_minor": 2
}
