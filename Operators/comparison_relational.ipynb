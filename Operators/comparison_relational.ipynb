{
 "cells": [
  {
   "cell_type": "code",
   "execution_count": 1,
   "metadata": {},
   "outputs": [],
   "source": [
    "# >  -> Greater than: True if left operand is greater then the right -> x>y\n",
    "# <  -> Less Than: True if the left operand is less than the right  -> x<y\n",
    "# ==  -> Equal to: True if both operands are equal  -> x==y\n",
    "# !=  -> Not equal to: True if operands are not equal  -> x!=y\n",
    "# >= -> Greater than or equal to: True if the left operand is greater than or equal to the right  -> x>=y\n",
    "# <= -> Less than or equal to: True if the left operand is less than or equal to the right -> x<=y\n",
    "\n",
    "# note: = is an assignment operator and == is comparison operator"
   ]
  },
  {
   "cell_type": "code",
   "execution_count": 2,
   "metadata": {},
   "outputs": [],
   "source": [
    "# In python, the comparison operators have lower precedence \n",
    "# than the arithmetic operators. All the operators within \n",
    "# comparison operators have same precedence order."
   ]
  },
  {
   "cell_type": "code",
   "execution_count": 3,
   "metadata": {},
   "outputs": [
    {
     "name": "stdout",
     "output_type": "stream",
     "text": [
      "True\n",
      "False\n",
      "False\n",
      "True\n",
      "True\n",
      "False\n"
     ]
    }
   ],
   "source": [
    "# Examples of Relational Operators\n",
    "a = 63\n",
    "b = 16\n",
    " \n",
    "# a > b is False\n",
    "print(a > b)\n",
    " \n",
    "# a < b is True\n",
    "print(a < b)\n",
    " \n",
    "# a == b is False\n",
    "print(a == b)\n",
    " \n",
    "# a != b is True\n",
    "print(a != b)\n",
    " \n",
    "# a >= b is False\n",
    "print(a >= b)\n",
    " \n",
    "# a <= b is True\n",
    "print(a <= b)"
   ]
  }
 ],
 "metadata": {
  "kernelspec": {
   "display_name": "Python 3",
   "language": "python",
   "name": "python3"
  },
  "language_info": {
   "codemirror_mode": {
    "name": "ipython",
    "version": 3
   },
   "file_extension": ".py",
   "mimetype": "text/x-python",
   "name": "python",
   "nbconvert_exporter": "python",
   "pygments_lexer": "ipython3",
   "version": "3.11.3"
  },
  "orig_nbformat": 4
 },
 "nbformat": 4,
 "nbformat_minor": 2
}
