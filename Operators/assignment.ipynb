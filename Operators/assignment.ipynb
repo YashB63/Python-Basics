{
 "cells": [
  {
   "cell_type": "code",
   "execution_count": null,
   "metadata": {},
   "outputs": [],
   "source": [
    "# = -> Assign the value of the right side of the expression to the \n",
    "# left side operand -> x = y + z"
   ]
  },
  {
   "cell_type": "code",
   "execution_count": null,
   "metadata": {},
   "outputs": [],
   "source": [
    "# += -> Add AND: Add right-side operand with left-side operand and \n",
    "# then assign to left operand -> a+=b   ,  a=a+b"
   ]
  },
  {
   "cell_type": "code",
   "execution_count": null,
   "metadata": {},
   "outputs": [],
   "source": [
    "# -= -> Subtract AND: Subtract right operand from left operand and then \n",
    "# assign to left operand -> a-=b  ,   a=a-b"
   ]
  },
  {
   "cell_type": "code",
   "execution_count": null,
   "metadata": {},
   "outputs": [],
   "source": [
    "# <<= -> Performs Bitwise left shift on operands and assign value to \n",
    "# left operand -> a <<= b   ,  a= a << b"
   ]
  },
  {
   "cell_type": "code",
   "execution_count": 1,
   "metadata": {},
   "outputs": [
    {
     "name": "stdout",
     "output_type": "stream",
     "text": [
      "63\n",
      "126\n",
      "63\n",
      "3969\n",
      "36607563614276605181952\n"
     ]
    }
   ],
   "source": [
    "# Examples of Assignment Operators\n",
    "a = 63\n",
    " \n",
    "# Assign value\n",
    "b = a\n",
    "print(b)\n",
    " \n",
    "# Add and assign value\n",
    "b += a\n",
    "print(b)\n",
    " \n",
    "# Subtract and assign value\n",
    "b -= a\n",
    "print(b)\n",
    " \n",
    "# multiply and assign\n",
    "b *= a\n",
    "print(b)\n",
    " \n",
    "# bitwise lishift operator\n",
    "b <<= a\n",
    "print(b)"
   ]
  }
 ],
 "metadata": {
  "kernelspec": {
   "display_name": "Python 3",
   "language": "python",
   "name": "python3"
  },
  "language_info": {
   "codemirror_mode": {
    "name": "ipython",
    "version": 3
   },
   "file_extension": ".py",
   "mimetype": "text/x-python",
   "name": "python",
   "nbconvert_exporter": "python",
   "pygments_lexer": "ipython3",
   "version": "3.11.3"
  },
  "orig_nbformat": 4
 },
 "nbformat": 4,
 "nbformat_minor": 2
}
