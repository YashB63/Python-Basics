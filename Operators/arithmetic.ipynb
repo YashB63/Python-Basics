{
 "cells": [
  {
   "cell_type": "code",
   "execution_count": 5,
   "metadata": {},
   "outputs": [],
   "source": [
    "# In python arithmetic operators are used to perform basic mathematical\n",
    "# operations like addition, substraction, multiplication and division\n",
    "\n",
    "# + -> Addition: Adds two operands  ->  x + y\n",
    "# - -> Substraction: Subtracts two operands  ->  x - y\n",
    "# * -> Multiplition: Multiplies two operands  ->  x * y\n",
    "# / -> Division(float): Divides the first operand by the second  ->  x / y\n",
    "# // -> Division(floor): Divides the first operand by the second  ->  x//y\n",
    "# %  -> Modulus: Returns the remainder when the first operand is divided by the second -> x%y\n",
    "# ** -> Power: Returns the first raised to power second -> x**y"
   ]
  },
  {
   "cell_type": "code",
   "execution_count": 6,
   "metadata": {},
   "outputs": [],
   "source": [
    "# Precedence of Arithmetic Operators in Python\n",
    "# The precedence of Arithmetic Operators in python is as follows:\n",
    "\n",
    "# P – Parentheses\n",
    "# E – Exponentiation\n",
    "# M – Multiplication (Multiplication and division have the same precedence)\n",
    "# D – Division\n",
    "# A – Addition (Addition and subtraction have the same precedence)\n",
    "# S – Subtraction\n",
    "\n",
    "# The modulus operator helps us extract the last digit/s of a number. \n",
    "# For example:\n",
    "    \n",
    "#     x % 10 -> yields the last digit\n",
    "#     x % 100 -> yield last two digits"
   ]
  },
  {
   "cell_type": "code",
   "execution_count": 7,
   "metadata": {},
   "outputs": [
    {
     "name": "stdout",
     "output_type": "stream",
     "text": [
      "9\n",
      "3\n",
      "18\n",
      "0\n",
      "216\n"
     ]
    }
   ],
   "source": [
    "# Examples of Arithmetic Operator\n",
    "a = 6\n",
    "b = 3\n",
    " \n",
    "# Addition of numbers\n",
    "addn = a + b\n",
    " \n",
    "# Subtraction of numbers\n",
    "subn = a - b\n",
    " \n",
    "# Multiplication of number\n",
    "mulpn = a * b\n",
    " \n",
    "# Modulo of both number\n",
    "mod = a % b\n",
    " \n",
    "# Power\n",
    "powr = a ** b\n",
    " \n",
    "# print results\n",
    "print(addn)\n",
    "print(subn)\n",
    "print(mulpn)\n",
    "print(mod)\n",
    "print(powr)"
   ]
  }
 ],
 "metadata": {
  "kernelspec": {
   "display_name": "Python 3",
   "language": "python",
   "name": "python3"
  },
  "language_info": {
   "codemirror_mode": {
    "name": "ipython",
    "version": 3
   },
   "file_extension": ".py",
   "mimetype": "text/x-python",
   "name": "python",
   "nbconvert_exporter": "python",
   "pygments_lexer": "ipython3",
   "version": "3.11.3"
  },
  "orig_nbformat": 4
 },
 "nbformat": 4,
 "nbformat_minor": 2
}
