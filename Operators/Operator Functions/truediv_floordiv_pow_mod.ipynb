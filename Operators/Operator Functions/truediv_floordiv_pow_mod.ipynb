{
 "cells": [
  {
   "cell_type": "code",
   "execution_count": 1,
   "metadata": {},
   "outputs": [],
   "source": [
    "# truediv(a,b) :- This function returns division of the given arguments.\n",
    "# Operation – a / b.\n",
    "\n",
    "# floordiv(a,b) :- This function also returns division of the given arguments. But the value is floored value i.e. returns greatest small integer.\n",
    "# Operation – a // b.\n",
    "\n",
    "# pow(a,b) :- This function returns exponentiation of the given arguments.\n",
    "# Operation – a ** b.\n",
    "\n",
    "# mod(a,b) :- This function returns modulus of the given arguments.\n",
    "# Operation – a % b."
   ]
  },
  {
   "cell_type": "code",
   "execution_count": 2,
   "metadata": {},
   "outputs": [
    {
     "name": "stdout",
     "output_type": "stream",
     "text": [
      "The true division of two numbers is : 2.0\n",
      "The floor division of two numbers is : 2\n",
      "The exponentiation of two numbers is : 216\n",
      "The modulus of two numbers is : 0\n"
     ]
    }
   ],
   "source": [
    "import operator\n",
    "  \n",
    "# Initializing variables\n",
    "a = 6\n",
    "  \n",
    "b = 3\n",
    "  \n",
    "# using truediv() to divide two numbers\n",
    "print (\"The true division of two numbers is : \",end=\"\")\n",
    "print (operator.truediv(a,b))\n",
    "  \n",
    "# using floordiv() to divide two numbers\n",
    "print (\"The floor division of two numbers is : \",end=\"\")\n",
    "print (operator.floordiv(a,b))\n",
    "  \n",
    "# using pow() to exponentiate two numbers\n",
    "print (\"The exponentiation of two numbers is : \",end=\"\")\n",
    "print (operator.pow(a,b))\n",
    "  \n",
    "# using mod() to take modulus of two numbers\n",
    "print (\"The modulus of two numbers is : \",end=\"\")\n",
    "print (operator.mod(a,b))"
   ]
  }
 ],
 "metadata": {
  "kernelspec": {
   "display_name": "Python 3",
   "language": "python",
   "name": "python3"
  },
  "language_info": {
   "codemirror_mode": {
    "name": "ipython",
    "version": 3
   },
   "file_extension": ".py",
   "mimetype": "text/x-python",
   "name": "python",
   "nbconvert_exporter": "python",
   "pygments_lexer": "ipython3",
   "version": "3.11.3"
  },
  "orig_nbformat": 4
 },
 "nbformat": 4,
 "nbformat_minor": 2
}
