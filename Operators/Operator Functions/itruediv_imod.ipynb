{
 "cells": [
  {
   "cell_type": "code",
   "execution_count": 1,
   "metadata": {},
   "outputs": [],
   "source": [
    "# itruediv() :- This function is used to assign and divide the current value. \n",
    "# This operation does “a/=b” operation. Assigning is not performed in case of \n",
    "# immutable containers, such as strings, numbers and tuples.\n",
    "\n",
    "# imod() :- This function is used to assign and return remainder . \n",
    "# This operation does “a%=b” operation. Assigning is not performed in case \n",
    "# of immutable containers, such as strings, numbers and tuples."
   ]
  },
  {
   "cell_type": "code",
   "execution_count": 2,
   "metadata": {},
   "outputs": [
    {
     "name": "stdout",
     "output_type": "stream",
     "text": [
      "The value after dividing and assigning : 1.75\n"
     ]
    }
   ],
   "source": [
    "import operator\n",
    "  \n",
    "# using itruediv() to divide and assign value\n",
    "a = operator.itruediv(63, 36)\n",
    "  \n",
    "# printing the modified value\n",
    "print (\"The value after dividing and assigning : \", end=\"\")\n",
    "print (a)"
   ]
  },
  {
   "cell_type": "code",
   "execution_count": 3,
   "metadata": {},
   "outputs": [
    {
     "name": "stdout",
     "output_type": "stream",
     "text": [
      "The value after modulus and assigning : 27\n"
     ]
    }
   ],
   "source": [
    "# using imod() to modulus and assign value\n",
    "a = operator.imod(63, 36)\n",
    "  \n",
    "# printing the modified value\n",
    "print (\"The value after modulus and assigning : \", end=\"\")\n",
    "print (a)"
   ]
  }
 ],
 "metadata": {
  "kernelspec": {
   "display_name": "Python 3",
   "language": "python",
   "name": "python3"
  },
  "language_info": {
   "codemirror_mode": {
    "name": "ipython",
    "version": 3
   },
   "file_extension": ".py",
   "mimetype": "text/x-python",
   "name": "python",
   "nbconvert_exporter": "python",
   "pygments_lexer": "ipython3",
   "version": "3.11.3"
  },
  "orig_nbformat": 4
 },
 "nbformat": 4,
 "nbformat_minor": 2
}
