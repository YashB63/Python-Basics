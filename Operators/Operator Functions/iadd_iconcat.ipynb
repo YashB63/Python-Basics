{
 "cells": [
  {
   "cell_type": "code",
   "execution_count": 1,
   "metadata": {},
   "outputs": [],
   "source": [
    "# iadd() :- This function is used to assign and add the current value.\n",
    "# This operation does “a+=b” operation. Assigning is not performed in \n",
    "# case of immutable containers, such as strings, numbers and tuples.\n",
    "\n",
    "# iconcat() :- This function is used to concat one string at end of second."
   ]
  },
  {
   "cell_type": "code",
   "execution_count": 3,
   "metadata": {},
   "outputs": [
    {
     "name": "stdout",
     "output_type": "stream",
     "text": [
      "The value after adding and assigning : 9\n",
      "The string after concatenation is : Yash\n"
     ]
    }
   ],
   "source": [
    "import operator\n",
    "  \n",
    "# using iadd() to add and assign value\n",
    "a = operator.iadd(6, 3)\n",
    "  \n",
    "# printing the modified value\n",
    "print (\"The value after adding and assigning : \", end=\"\")\n",
    "print (a)\n",
    "  \n",
    "# initializing values\n",
    "b = \"Yash\"\n",
    "  \n",
    "c = \"B63\"\n",
    "  \n",
    "# using iconcat() to concat the sequences\n",
    "y = operator.iconcat(b, c)\n",
    "  \n",
    "# using iconcat() to concat sequences \n",
    "print (\"The string after concatenation is : \", end=\"\")\n",
    "print (b)"
   ]
  }
 ],
 "metadata": {
  "kernelspec": {
   "display_name": "Python 3",
   "language": "python",
   "name": "python3"
  },
  "language_info": {
   "codemirror_mode": {
    "name": "ipython",
    "version": 3
   },
   "file_extension": ".py",
   "mimetype": "text/x-python",
   "name": "python",
   "nbconvert_exporter": "python",
   "pygments_lexer": "ipython3",
   "version": "3.11.3"
  },
  "orig_nbformat": 4
 },
 "nbformat": 4,
 "nbformat_minor": 2
}
