{
 "cells": [
  {
   "cell_type": "code",
   "execution_count": 1,
   "metadata": {},
   "outputs": [],
   "source": [
    "# Python has predefined functions for many mathematical, logical, \n",
    "# relational, bitwise etc operations under the module “operator”. \n",
    "# Some of the basic functions are: \n",
    "\n",
    "#   1. add(a, b) :- This function returns addition of the given arguments.\n",
    "#   Operation – a + b.\n",
    "\n",
    "#   2. sub(a, b) :- This function returns difference of the given arguments.\n",
    "#   Operation – a – b.\n",
    "\n",
    "#   3. mul(a, b) :- This function returns product of the given arguments.\n",
    "#   Operation – a * b."
   ]
  },
  {
   "cell_type": "code",
   "execution_count": 3,
   "metadata": {},
   "outputs": [
    {
     "name": "stdout",
     "output_type": "stream",
     "text": [
      "The addition of two numbers is : 9\n",
      "The difference of two numbers is : 3\n",
      "The product of two numbers is : 18\n"
     ]
    }
   ],
   "source": [
    "import operator\n",
    "  \n",
    "# Initializing variables\n",
    "a = 6\n",
    "  \n",
    "b = 3\n",
    "  \n",
    "# using add() to add two numbers\n",
    "print (\"The addition of two numbers is : \",end=\"\");\n",
    "print (operator.add(a, b))\n",
    "  \n",
    "# using sub() to subtract two numbers\n",
    "print (\"The difference of two numbers is : \",end=\"\");\n",
    "print (operator.sub(a, b))\n",
    "  \n",
    "# using mul() to multiply two numbers\n",
    "print (\"The product of two numbers is : \",end=\"\");\n",
    "print (operator.mul(a, b))"
   ]
  }
 ],
 "metadata": {
  "kernelspec": {
   "display_name": "Python 3",
   "language": "python",
   "name": "python3"
  },
  "language_info": {
   "codemirror_mode": {
    "name": "ipython",
    "version": 3
   },
   "file_extension": ".py",
   "mimetype": "text/x-python",
   "name": "python",
   "nbconvert_exporter": "python",
   "pygments_lexer": "ipython3",
   "version": "3.11.3"
  },
  "orig_nbformat": 4
 },
 "nbformat": 4,
 "nbformat_minor": 2
}
