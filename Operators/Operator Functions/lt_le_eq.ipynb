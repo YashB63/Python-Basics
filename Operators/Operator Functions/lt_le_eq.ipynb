{
 "cells": [
  {
   "cell_type": "code",
   "execution_count": 1,
   "metadata": {},
   "outputs": [],
   "source": [
    "# lt(a, b) :- This function is used to check if a is less than b or not. \n",
    "# Returns true if a is less than b, else returns false.\n",
    "# Operation – a < b.\n",
    "\n",
    "# le(a, b) :- This function is used to check if a is less than or equal to b or not. \n",
    "# Returns true if a is less than or equal to b, else returns false.\n",
    "# Operation – a <= b.\n",
    "\n",
    "# eq(a, b) :- This function is used to check if a is equal to b or not. \n",
    "# Returns true if a is equal to b, else returns false.\n",
    "# Operation – a == b.\n",
    "\n"
   ]
  },
  {
   "cell_type": "code",
   "execution_count": 2,
   "metadata": {},
   "outputs": [
    {
     "name": "stdout",
     "output_type": "stream",
     "text": [
      "63 is not less than 63\n",
      "63 is less than or equal to 63\n",
      "63 is equal to 63\n"
     ]
    }
   ],
   "source": [
    "import operator\n",
    "  \n",
    "# Initializing variables\n",
    "a = 63\n",
    "  \n",
    "b = 63\n",
    "  \n",
    "# using lt() to check if a is less than b\n",
    "if(operator.lt(a,b)):\n",
    "       print (\"63 is less than 63\")\n",
    "else : print (\"63 is not less than 63\")\n",
    "  \n",
    "# using le() to check if a is less than or equal to b\n",
    "if(operator.le(a,b)):\n",
    "       print (\"63 is less than or equal to 63\")\n",
    "else : print (\"63 is not less than or equal to 63\")\n",
    "  \n",
    "# using eq() to check if a is equal to b\n",
    "if (operator.eq(a,b)):\n",
    "       print (\"63 is equal to 63\")\n",
    "else : print (\"63 is not equal to 63\")"
   ]
  }
 ],
 "metadata": {
  "kernelspec": {
   "display_name": "Python 3",
   "language": "python",
   "name": "python3"
  },
  "language_info": {
   "codemirror_mode": {
    "name": "ipython",
    "version": 3
   },
   "file_extension": ".py",
   "mimetype": "text/x-python",
   "name": "python",
   "nbconvert_exporter": "python",
   "pygments_lexer": "ipython3",
   "version": "3.11.3"
  },
  "orig_nbformat": 4
 },
 "nbformat": 4,
 "nbformat_minor": 2
}
