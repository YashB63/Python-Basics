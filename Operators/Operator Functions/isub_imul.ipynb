{
 "cells": [
  {
   "cell_type": "code",
   "execution_count": 1,
   "metadata": {},
   "outputs": [],
   "source": [
    "# isub() :- This function is used to assign and subtract the current value. \n",
    "# This operation does “a-=b” operation. Assigning is not performed in case \n",
    "# of immutable containers, such as strings, numbers and tuples.\n",
    "\n",
    "# imul() :- This function is used to assign and multiply the current value. \n",
    "# This operation does “a*=b” operation. Assigning is not performed in case \n",
    "# of immutable containers, such as strings, numbers and tuples."
   ]
  },
  {
   "cell_type": "code",
   "execution_count": 2,
   "metadata": {},
   "outputs": [
    {
     "name": "stdout",
     "output_type": "stream",
     "text": [
      "The value after subtracting and assigning : 3\n"
     ]
    }
   ],
   "source": [
    "import operator\n",
    "  \n",
    "# using isub() to subtract and assign value\n",
    "a = operator.isub(6, 3);\n",
    "  \n",
    "# printing the modified value\n",
    "print (\"The value after subtracting and assigning : \", end=\"\")\n",
    "print (a)"
   ]
  },
  {
   "cell_type": "code",
   "execution_count": 3,
   "metadata": {},
   "outputs": [
    {
     "name": "stdout",
     "output_type": "stream",
     "text": [
      "The value after multiplying and assigning : 18\n"
     ]
    }
   ],
   "source": [
    "# using imul() to multiply and assign value\n",
    "a = operator.imul(6, 3);\n",
    "  \n",
    "# printing the modified value\n",
    "print (\"The value after multiplying and assigning : \", end=\"\")\n",
    "print (a)"
   ]
  }
 ],
 "metadata": {
  "kernelspec": {
   "display_name": "Python 3",
   "language": "python",
   "name": "python3"
  },
  "language_info": {
   "codemirror_mode": {
    "name": "ipython",
    "version": 3
   },
   "file_extension": ".py",
   "mimetype": "text/x-python",
   "name": "python",
   "nbconvert_exporter": "python",
   "pygments_lexer": "ipython3",
   "version": "3.11.3"
  },
  "orig_nbformat": 4
 },
 "nbformat": 4,
 "nbformat_minor": 2
}
