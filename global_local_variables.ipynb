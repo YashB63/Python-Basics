{
 "cells": [
  {
   "cell_type": "code",
   "execution_count": null,
   "metadata": {},
   "outputs": [],
   "source": [
    "# Python Global variables are those which are \n",
    "# not defined inside any function and have a global scope whereas \n",
    "# Python local variables are those which are defined inside a function and their \n",
    "# scope is limited to that function only. In other words, we caan say \n",
    "# that local variables are accessible only inside the function in which \n",
    "# it was initialized whereas the global variables are accessible throughout \n",
    "# the program and inside every function"
   ]
  },
  {
   "cell_type": "code",
   "execution_count": 1,
   "metadata": {},
   "outputs": [
    {
     "name": "stdout",
     "output_type": "stream",
     "text": [
      "Hi guys! Welcome to my stream\n"
     ]
    }
   ],
   "source": [
    "# Defining and accessing local variables\n",
    "\n",
    "def local_var():\n",
    "    a = \"Hi guys! Welcome to my stream\"\n",
    "    print(a)\n",
    "    \n",
    "local_var()"
   ]
  },
  {
   "cell_type": "code",
   "execution_count": 4,
   "metadata": {},
   "outputs": [
    {
     "name": "stdout",
     "output_type": "stream",
     "text": [
      "Inside the function!\n",
      "Hi guys! Welcome to my stream\n"
     ]
    },
    {
     "ename": "NameError",
     "evalue": "name 'b' is not defined",
     "output_type": "error",
     "traceback": [
      "\u001b[1;31m---------------------------------------------------------------------------\u001b[0m",
      "\u001b[1;31mNameError\u001b[0m                                 Traceback (most recent call last)",
      "Cell \u001b[1;32mIn[4], line 8\u001b[0m\n\u001b[0;32m      5\u001b[0m     \u001b[39mprint\u001b[39m(b)\n\u001b[0;32m      7\u001b[0m local_var1()\n\u001b[1;32m----> 8\u001b[0m \u001b[39mprint\u001b[39m(b)\n",
      "\u001b[1;31mNameError\u001b[0m: name 'b' is not defined"
     ]
    }
   ],
   "source": [
    "def local_var1():\n",
    "    # local variable\n",
    "    print(\"Inside the function!\")\n",
    "    b = \"Hi guys! Welcome to my stream\"\n",
    "    print(b)\n",
    "    \n",
    "local_var1()\n",
    "print(b)"
   ]
  },
  {
   "cell_type": "code",
   "execution_count": null,
   "metadata": {},
   "outputs": [],
   "source": [
    "# Here we can see that you cannot access variable b outside the function"
   ]
  },
  {
   "cell_type": "code",
   "execution_count": 5,
   "metadata": {},
   "outputs": [
    {
     "name": "stdout",
     "output_type": "stream",
     "text": [
      "Inside Function!  This is Global Variable\n",
      "Outside Function!  This is Global Variable\n"
     ]
    }
   ],
   "source": [
    "# Creating Global variable\n",
    "def var_test():\n",
    "    print(\"Inside Function! \",c)\n",
    "    \n",
    "# Global Scope\n",
    "c = \"This is Global Variable\"\n",
    "var_test()\n",
    "print(\"Outside Function! \", c)"
   ]
  },
  {
   "cell_type": "code",
   "execution_count": 6,
   "metadata": {},
   "outputs": [
    {
     "name": "stdout",
     "output_type": "stream",
     "text": [
      "Local Variable\n",
      "Global variable\n"
     ]
    }
   ],
   "source": [
    "#ek hi naam ke 2 variable global and local scope mey use kar skte hai\n",
    "def var_test2():\n",
    "    d = \"Local Variable\"\n",
    "    print(d)\n",
    "\n",
    "d = \"Global variable\"\n",
    "var_test2()\n",
    "print(d)"
   ]
  }
 ],
 "metadata": {
  "kernelspec": {
   "display_name": "Python 3",
   "language": "python",
   "name": "python3"
  },
  "language_info": {
   "codemirror_mode": {
    "name": "ipython",
    "version": 3
   },
   "file_extension": ".py",
   "mimetype": "text/x-python",
   "name": "python",
   "nbconvert_exporter": "python",
   "pygments_lexer": "ipython3",
   "version": "3.11.3"
  },
  "orig_nbformat": 4
 },
 "nbformat": 4,
 "nbformat_minor": 2
}
